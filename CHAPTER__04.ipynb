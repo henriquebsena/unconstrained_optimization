{
 "cells": [
  {
   "cell_type": "markdown",
   "metadata": {},
   "source": [
    "# LIVRO: Introduct ion to Unconstrained Optimization with R\n",
    "### ___AUTORES: Shashi Kant Mishra; Bhagwat Ram___\n",
    "### ___EDITORA: Springer___\n",
    "### ___ANO: 2019___"
   ]
  },
  {
   "cell_type": "markdown",
   "metadata": {},
   "source": [
    "<b>AVISO:</b> A editora Springer tem direitos sobre o capital intelectual dos códigos originais e trechos do livro texto que são utilizados aqui. Desta forma, este material é somente para estudo e melhoria de conhecimento, sendo ilegal a venda do mesmo ou a obtenção de qualquer lucro. Além disso, deve-se ter em mente de que este material é construído para melhorar meu conhecimento na área e por isso não deve-se assumir que os códigos vistos aqui são totalmente precisos ou corretos.\n",
    "\n",
    "\n",
    "<b>PROPOSTA GERAL:</b> Apresentar uma versão python dos algoritmos contidos no capítulo do livro texto, assim como adicionar algumas informações extras e criar um material (simples) para complementar o estudo e agilizar alguma possível necessidade.\n",
    "\n",
    "\n",
    "<b>FORMA DE CONSTRUÇÃO DO MATERIAL:</b>\n",
    "\n",
    "    I) Leitura completa do capítulo;  \n",
    "    II) Pesquisa por algum material complementar;\n",
    "    III) Teste dos códigos e algoritmos do livro na versão R;\n",
    "    IV) Migração dos códigos R em (III) para a versão Python no Jupyter Notebook;\n",
    "    V) Construção do arquivo final no Jupyter Notebook;\n",
    "\n",
    "\n",
    "<b>COMENTÁRIO:</b>\n",
    "\n",
    "    I) O livro trabalha os códigos em R, mas vou migrar tais códigos para Python de modo a melhorar meu aprendizado;\n",
    "    II) No inicio de cada código, vou indicar a página do livro no qual o código se encontra;\n",
    "    III) Quando eu tiver informação extra que não der para colocar no código, estarei fazendo uma célula do jupyter dedicada a comentar tal informação. (Semelhante a esta).\n",
    "    \n",
    "\n",
    "<b>BIBLIOGRAFIA:\n",
    "    \n",
    "    [1]: Introduct ion to Unconstrained Optimization with R - 2019 - Shashi Kant Mishra; Bhagwat Ram\n",
    "    [2]: OPTIMIZATION, Algorithms and Applications - 2015 - Rajesh Kumar Arora\n",
    "    [3]: Cálculo com Geometria Analítica - Volume 1 - 1994 -  Louis Leithold\n",
    "\n"
   ]
  },
  {
   "cell_type": "markdown",
   "metadata": {},
   "source": [
    "# "
   ]
  },
  {
   "cell_type": "markdown",
   "metadata": {},
   "source": [
    "# Extra - Seção 1.6 - Gradient Vector, Directional Derivative, and Hessian Matrix\n",
    "\n",
    "## LIVRO TEXTO - Referência [2]\n",
    "\n",
    "### Pg. 16 a 18; Referência [2].\n",
    "\n",
    "**Obs:** Estarei implementando esta parte extra com a finalidade de apresentar os métodos de aproximação de derivada de ordem 1 e 2 para funções com uma variável. Tais métodos são importantes e o livro texto [1] não os aborda de maneira adequada (em minha opinião)."
   ]
  },
  {
   "cell_type": "code",
   "execution_count": 1,
   "metadata": {},
   "outputs": [],
   "source": [
    "#### APROXIMAÇÃO DE DERIVADA PRIMEIRA -- FUNÇÃO: Forward Difference\n",
    "\n",
    "# Pg. 28; Referência [2].\n",
    "\n",
    "def fun_aprox_dev_forward_diff(f_, x_, h_):\n",
    "    #f_: Função f na qual iremos aproximar a derivada;\n",
    "    #x_: Valor do domínimo de f no qual aplicaremos a derivada;\n",
    "    #h_: Valor de variação aplicada no ponto. Famoso delta x (ou h). Ver [2].\n",
    "    \n",
    "    DEV_ = ( f_(x_+h_) - f_(x_) ) / h_\n",
    "    return DEV_\n"
   ]
  },
  {
   "cell_type": "code",
   "execution_count": 2,
   "metadata": {},
   "outputs": [],
   "source": [
    "#### APROXIMAÇÃO DE DERIVADA PRIMEIRA -- FUNÇÃO: Backward Difference\n",
    "\n",
    "# Pg. 28; Referência [2].\n",
    "\n",
    "def fun_aprox_dev_back_diff(f_, x_, h_):    \n",
    "    #f_: Função f na qual iremos aproximar a derivada;\n",
    "    #x_: Valor do domínimo de f no qual aplicaremos a derivada;\n",
    "    #h_: Valor de variação aplicada no ponto. Famoso deta x (ou h). Ver [3].\n",
    "\n",
    "    DEV_ = ( f_(x_) - f_(x_-h_) ) / h_\n",
    "    return DEV_"
   ]
  },
  {
   "cell_type": "code",
   "execution_count": 3,
   "metadata": {},
   "outputs": [],
   "source": [
    "#### APROXIMAÇÃO DE DERIVADA PRIMEIRA -- FUNÇÃO: Central Difference\n",
    "\n",
    "# Pg. 28; Referência [2].\n",
    "\n",
    "def fun_aprox_dev_central_diff(f_, x_, h_):    \n",
    "    #f_: Função f na qual iremos aproximar a derivada;\n",
    "    #x_: Valor do domínimo de f no qual aplicaremos a derivada;\n",
    "    #h_: Valor de variação aplicada no ponto. Famoso deta x (ou h). Ver [3].\n",
    "\n",
    "    DEV_ = ( f_(x_+h_) - f_(x_-h_) ) / (2*h_)\n",
    "    return DEV_\n",
    "\n",
    "\n",
    "##obs: Em [2] é visto que a formula central difference é mais precisa que as anteriores. Desta forma utilizaremos ela\n",
    "# sempre que for necesário obter derivada de uma função de interesse em um ponto de interesse.\n"
   ]
  },
  {
   "cell_type": "code",
   "execution_count": 4,
   "metadata": {},
   "outputs": [
    {
     "name": "stdout",
     "output_type": "stream",
     "text": [
      "O resultado obtido na formula foward differece: 12.000099999980307\n",
      "O resultado obtido na formula back differece: 11.999899999963759\n",
      "O resultado obtido na formula central differece: 11.999999999972033\n"
     ]
    }
   ],
   "source": [
    "#### Exemplo 01: Compute numericamente o valor da derivada primeira no ponto x=7 para \n",
    "# a função contínua f(x) = (x^2)-(2*x)+1 e uma variação h = 0.0001. \n",
    "# Lembre-se que a derivada primeira é 2*x-2 e o valor da mesma aplicada no ponto 7 resulta no valor 12.\n",
    "\n",
    "### SOLUÇÃO:\n",
    "\n",
    "def fun_ex01(x_):\n",
    "    return (x_**2) - (2*x_) + 1\n",
    "\n",
    "\n",
    "form_forward = fun_aprox_dev_forward_diff(f_ = fun_ex01, x_ = 7, h_ = 0.0001)\n",
    "form_back = fun_aprox_dev_back_diff(f_ = fun_ex01, x_ = 7, h_ = 0.0001)\n",
    "form_central = fun_aprox_dev_central_diff(f_ = fun_ex01, x_ = 7, h_ = 0.0001)\n",
    "\n",
    "print(\"O resultado obtido na formula foward differece: {}\".format(form_forward))\n",
    "print(\"O resultado obtido na formula back differece: {}\".format(form_back))\n",
    "print(\"O resultado obtido na formula central differece: {}\".format(form_central))\n",
    "\n",
    "# Obs: Veja que foi um valor bem próximo do valor obtido com a derivada primeira em sua forma analítica.\n"
   ]
  },
  {
   "cell_type": "code",
   "execution_count": 5,
   "metadata": {},
   "outputs": [],
   "source": [
    "#### APROXIMAÇÃO DE DERIVADA SEGUNDA -- FUNÇÃO: Central Difference\n",
    "\n",
    "# Pg. 28; Referência [2].\n",
    "\n",
    "def fun_aprox_dev_seg_central_diff(f_, x_, h_):    \n",
    "    #f_: Função f na qual iremos aproximar a derivada;\n",
    "    #x_: Valor do domínimo de f no qual aplicaremos a derivada;\n",
    "    #h_: Valor de variação aplicada no ponto. Famoso deta x (ou h). Ver [3].\n",
    "\n",
    "    DEV_ = ( f_(x_+h_) - 2*f_(x_) + f_(x_-h_) ) / (h_**2)\n",
    "    return DEV_\n"
   ]
  },
  {
   "cell_type": "code",
   "execution_count": 6,
   "metadata": {},
   "outputs": [
    {
     "name": "stdout",
     "output_type": "stream",
     "text": [
      "O resultado obtido na formula central differece para a derivada segunda: 41.99999921183917\n"
     ]
    }
   ],
   "source": [
    "#### Exemplo 02: Compute numericamente o valor da derivada SEGUNDA no ponto x=7 \n",
    "# para a função contínua f(x) = (x^3)-(4*x)+5 e uma variação h = 0.0001. \n",
    "# Lembre-se que a derivada SEGUNDA é 6*x e o valor da mesma aplicada no ponto 7 resulta no valor 42.\n",
    "\n",
    "\n",
    "### SOLUÇÃO:\n",
    "\n",
    "def fun_ex02(x_):\n",
    "    return (x_**3)-(4*x_)+5\n",
    "\n",
    "\n",
    "form_central_dev_seg = fun_aprox_dev_seg_central_diff(f_ = fun_ex02, x_ = 7, h_ = 0.0001)\n",
    "\n",
    "print(\"O resultado obtido na formula central differece para a derivada segunda: {}\".format(form_central_dev_seg))\n",
    "\n",
    "# Obs: Veja que foi um valor bem próximo do valor obtido com a derivada segunda em sua forma analítica.\n"
   ]
  },
  {
   "cell_type": "markdown",
   "metadata": {},
   "source": [
    "# "
   ]
  },
  {
   "cell_type": "markdown",
   "metadata": {},
   "source": [
    "# Extra - Conhecimento  Adicional em Python\n",
    "\n",
    "**CURIOSIDADE:** Desviando um pouco do assunto. É comum que haja momentos que necessitamos fazer uma cópia de uma variável, pois queremos fazer algum procedimento com a variável e em seguida comparar com o valor original da mesma. Quem vem do R sabe que para fazer uma cópia de uma variável X, basta fazer Y = X. Contudo, isso não funciona em python. Ao fazer isso, você irá criar um X e Y com o mesmo código na memória e com isso, ao modificar Y, estaremos modificando X. Desta maneira, existem algumas técnicas para criar cópias de variáveis. Assim, para uma variável X, podemos criar um cópia Y da forma:\n",
    "\n",
    "    I) import copy; Y = copy.deepcopy(X);\n",
    "    II) Y = X[:];\n",
    "    III) Y = [x for x in X];\n",
    "    IV) Y = X.copy() ;\n",
    "\n",
    "Vale comentar que o item (IV) não está utilizando uma função do pacote (biblioteca) copy. Além disso, vale apontar que (II) é mais rápido que (III) e que (IV) é mais fácil de lembrar o que é quando lemos o código pela segunda vez em um espaço longo de tempo.\n"
   ]
  },
  {
   "cell_type": "code",
   "execution_count": 7,
   "metadata": {},
   "outputs": [
    {
     "name": "stdout",
     "output_type": "stream",
     "text": [
      "O id de X é: 1640188624640\n",
      "O id de Y1 = X é: 1640188624640\n",
      "O id de Y2 = X[:] é: 1640188629376\n",
      "O id de Y3 = [i for i in X] é: 1640188631040\n",
      "O id de Y4 = X.copy() é: 1640188624768\n",
      "O id de Y5 = copy.deepcopy(X) é: 1640188624256\n"
     ]
    }
   ],
   "source": [
    "### Como curiosidade, vamos criar uma variável e algumas cópias da mesma. Em seguinda vamos usar \n",
    "# a função 'id()' para verificar o código de cada variável na memória do computador:\n",
    "\n",
    "import copy\n",
    "\n",
    "X = [1 , 3]\n",
    "\n",
    "Y1 = X\n",
    "Y2 = X[:]\n",
    "Y3 = [i for i in X]\n",
    "Y4 = X.copy()\n",
    "Y5 = copy.deepcopy(X)\n",
    "\n",
    "print('O id de X é: {}'.format(id(X)))\n",
    "print('O id de Y1 = X é: {}'.format(id(Y1)))\n",
    "print('O id de Y2 = X[:] é: {}'.format(id(Y2)))\n",
    "print('O id de Y3 = [i for i in X] é: {}'.format(id(Y3)))\n",
    "print('O id de Y4 = X.copy() é: {}'.format(id(Y4)))\n",
    "print('O id de Y5 = copy.deepcopy(X) é: {}'.format(id(Y5)))\n",
    "\n",
    "### Obs: Veja que Y1 apresenta o mesmo código de X e por isso uma modificação em Y1, modificará X. Já as outras cópias \n",
    "# não afetaram a variável original X, caso tais cópias recebam alguma modificação.\n"
   ]
  },
  {
   "cell_type": "markdown",
   "metadata": {},
   "source": [
    "# "
   ]
  },
  {
   "cell_type": "markdown",
   "metadata": {},
   "source": [
    "# Chapter 4 - First-Order and Second-Order Necessary Conditions"
   ]
  },
  {
   "cell_type": "markdown",
   "metadata": {},
   "source": [
    "# Seção 4.1 - Introduction\n",
    "\n",
    "## LIVRO TEXTO - Referência [1]\n",
    "\n",
    "### Código R: Pg. 60 - R Function 4.1 Grad_Vec.R; Referência [1].\n",
    "\n",
    "### Idéia geral do código: \n",
    "\n",
    "Esta é uma função para calcular numericamente o vetor gradiente de funções contínuas $f$ com mais de uma variável e um ponto de interesse no domínio.\n"
   ]
  },
  {
   "cell_type": "code",
   "execution_count": 8,
   "metadata": {},
   "outputs": [],
   "source": [
    "#### LIVRO TEXTO - Referência [1]\n",
    "### Pg. 60 - R Function 4.1; Referência [1].\n",
    "\n",
    "# Versão Python\n",
    "\n",
    "def Grad_Vec(f_, x_, h_):\n",
    "    #f_: Função f na qual iremos aproximar o gradiente;\n",
    "    #x_: Valor do domínimo de f no qual aplicaremos o gradiente; Este parâmetro deve ser um array com valores numéricos (float/int).\n",
    "    #h_: Valor de variação aplicada no ponto. Famoso deta x (ou h). Ver [2]; Esse parâmetro deve ser um número real.\n",
    "    \n",
    "    grad_vec_ = [0 for _ in range(len(x_))]\n",
    "\n",
    "    for i in range(len(x_)):\n",
    "#        x_low_ = [j for j in x_] # Primeira forma que usei pra copiar a variável (obj) x_, contudo eu suspeito que isso é lento devido ao 'for'.\n",
    "#        x_up_ = [j for j in x_]\n",
    "        \n",
    "#        x_low_ = x_[:] # mudei para esse formato porque o mago Thiago Neps disse que assim perfoma bem e seria melhor que minha versão inicial.\n",
    "#        x_up_ = x_[:]\n",
    "        \n",
    "        x_low_ = x_.copy() #mudei para esse formato depois que o mesmo mago disse que as vezes é melhor deixar mais fácil de ler e dessa forma seria mais fácil de lembrar o que é no futuro.\n",
    "        x_up_ = x_.copy()\n",
    "\n",
    "        x_low_[i] = (x_low_[i] - h_)\n",
    "        x_up_[i] = (x_up_[i] + h_)\n",
    "                \n",
    "        grad_vec_[i] = ( f_(x_up_) - f_(x_low_) )/(2*h_)\n",
    "    \n",
    "    return grad_vec_ \n",
    "\n"
   ]
  },
  {
   "cell_type": "code",
   "execution_count": 9,
   "metadata": {},
   "outputs": [
    {
     "name": "stdout",
     "output_type": "stream",
     "text": [
      "O valor do gradiente no ponto V=(1, 1) é: [6.0, 9.0]\n"
     ]
    }
   ],
   "source": [
    "#### Exemplo 03: Compute numericamente o vetor gradiente no ponto V=(x=2; y=2) para \n",
    "# a função contínua f(V) = x**3 + y**3 + 3*x*(y**2). Use uma variação h = 0.0001. \n",
    "# Lembre-se que o gradiente analítico é (3*x**2 + 3*y**2; 3*y**2+6*x*y) e seu \n",
    "# valor no ponto V é (1, 1) é dado por (6, 9). Use uma precisão de 4 casas decimais com a função 'round()'.\n",
    "\n",
    "\n",
    "### SOLUÇÃO:\n",
    "\n",
    "# função do exemplo\n",
    "def fun_ex03(V_):\n",
    "    return (V_[0]**3) + (V_[1]**3) + (3*V_[0]*(V_[1]**2))\n",
    "\n",
    "# ponto dado\n",
    "V = [1, 1] \n",
    "\n",
    "# gradiente\n",
    "GRADIENT_VECTOR = [round(i, 4) for i in Grad_Vec(fun_ex03, V, h_=0.0001)]\n",
    "\n",
    "\n",
    "print(\"O valor do gradiente no ponto V=(1, 1) é: {}\".format(GRADIENT_VECTOR))\n"
   ]
  },
  {
   "cell_type": "markdown",
   "metadata": {},
   "source": [
    "# "
   ]
  },
  {
   "cell_type": "markdown",
   "metadata": {},
   "source": [
    "# Seção 4.1 - Introduction\n",
    "\n",
    "## LIVRO TEXTO - Referência [1]\n",
    "\n",
    "### Código R: Pg. 61 - R Function 4.2 Hessian.R; Referência [1].\n",
    "\n",
    "### Idéia geral do código: \n",
    "\n",
    "Esta é uma função para calcular numericamente a matriz hessiana de funções contínuas $f$ com mais de uma variável e um  ponto de interesse no domínio.\n",
    "\n",
    "**Obs:** Eu também achei uma versão diferente desse código de Hessiana em:\n",
    "    https://github.com/cran/pracma/blob/master/R/hessian.R\n",
    "\n"
   ]
  },
  {
   "cell_type": "code",
   "execution_count": 10,
   "metadata": {},
   "outputs": [],
   "source": [
    "#### LIVRO TEXTO - Referência [1]\n",
    "\n",
    "### Pg. 61 e 62 - R Function 4.2; Referência [1].\n",
    "\n",
    "# Versão Python\n",
    "\n",
    "def Hessian(f_, x_, h_):\n",
    "    #f_: Função f na qual iremos aproximar o gradiente;\n",
    "    #x_: Valor do domínimo de f no qual aplicaremos o gradiente; Este parâmetro deve ser um array com valores numéricos (float/int).\n",
    "    #h_: Valor de variação aplicada no ponto. Famoso deta x (ou h). Ver [3]; Esse parâmetro deve ser um número real.\n",
    "    \n",
    "    n_ = len(x_)\n",
    "    hessian_ = [[0 for _ in range(n_)] for _ in range(n_)]\n",
    "\n",
    "    for i in range(n_):\n",
    "        for j in range(n_):\n",
    "            if i==j:\n",
    "                aux01_ = x_.copy()\n",
    "                aux01_[i] = aux01_[i] + h_\n",
    "                f1_ = f_(aux01_)\n",
    "\n",
    "                aux02_ =  x_.copy() ## OBS: O livro texto não apresenta essa linha de código. Acredito que seja um erro do mesmo, pois parece ser necessário ter esta linha.\n",
    "                aux02_[i] = aux02_[i] - h_\n",
    "                f2_ = f_(aux02_)\n",
    "\n",
    "                f3_ = f_(x_)\n",
    "\n",
    "                hessian_[i][j] = (f1_ - 2*f3_ + f2_) / (h_**2) # Veja que essa é a formula para segunda derivada como visto anteriormente. Você pode entender como uma derivada parcial aplicada duas vezes na mesma variável.\n",
    "\n",
    "            else:\n",
    "                aux01_ = x_.copy()\n",
    "                aux01_[i] = aux01_[i]+h_\n",
    "                aux01_[j] = aux01_[j]+h_\n",
    "                f1_ = f_(aux01_)\n",
    "\n",
    "                aux02_ = x_.copy()\n",
    "                aux02_[i] = aux02_[i]+h_\n",
    "                aux02_[j] = aux02_[j]-h_\n",
    "                f2_ = f_(aux02_)\n",
    "\n",
    "                aux03_ = x_.copy()\n",
    "                aux03_[i] = aux03_[i]-h_\n",
    "                aux03_[j] = aux03_[j]+h_\n",
    "                f3_ = f_(aux03_)\n",
    "\n",
    "                aux04_ = x_.copy()\n",
    "                aux04_[i] = aux04_[i]-h_\n",
    "                aux04_[j] = aux04_[j]-h_\n",
    "                f4_ = f_(aux04_)\n",
    "\n",
    "                hessian_[i][j] = (f1_ - f2_ - f3_ + f4_ ) / (4*(h_**2)) #Essa é a formula para o caso em que a segunda derivada na verdade é uma derivada parcial com relação a duas variáveis diferentes.\n",
    "\n",
    "                \n",
    "    return hessian_\n",
    "\n",
    "### obs: você pode colocar um if e um parâmetro para arredondar o valor dos elementos dessa hessiana."
   ]
  },
  {
   "cell_type": "code",
   "execution_count": 11,
   "metadata": {},
   "outputs": [
    {
     "name": "stdout",
     "output_type": "stream",
     "text": [
      "O valor numérico para a matriz Hessiana e o ponto V=[1, 1] é dado por: [[8.0, 18.00001], [18.00001, 24.0]]\n"
     ]
    }
   ],
   "source": [
    "#### Exemplo 04: Compute numericamente o vetor gradiente no ponto V=(x=1; y=1) para \n",
    "# a função contínua f(V=[x, y]) = (x**2) + (y**3) + (3*(x**2)*(y**3)). Use uma variação h = 0.0001. \n",
    "# Lembre-se que as derivadas parciais analíticas de primeira ordem são: \n",
    "    #Dfx = 2*x+6*x*(y**3);\n",
    "    #Dfy = (3*y**2)+9*(x**2)*(y**2);\n",
    "    \n",
    "# Lembre-se que as derivadas parciais analíticas de segunda ordem são: \n",
    "    #Dfxx = 2+6*(y**3);\n",
    "    #Dfyy = (6*y)+18*(x**2)*(y)\n",
    "    #Dfxy = Dfyx = 18*x*(y**2)\n",
    "\n",
    "# Lembre-se que o valor analítico da Hessiana no ponto V é (1, 1) é dado por [[8, 18],[18, 24]]. \n",
    "\n",
    "# Use uma precisão de 5 casas decimais com a função 'round()'.\n",
    "\n",
    "\n",
    "### SOLUÇÃO:\n",
    "\n",
    "# função do exemplo\n",
    "\n",
    "def f_test(V_):\n",
    "    x = V_[0]\n",
    "    y = V_[1]\n",
    "    return (x**2) + (y**3) + (3*(x**2)*(y**3)) \n",
    "\n",
    "# Ponto\n",
    "V=[1, 1]\n",
    "\n",
    "# Matriz Hessiana\n",
    "\n",
    "H_mat = Hessian(f_test, V, h_=0.001)\n",
    "H_mat_round = [[round(j, 5) for j in i] for i in H_mat] # aqui é a matriz com valores arredondados para 5 casas decimais.\n",
    "\n",
    "print('O valor numérico para a matriz Hessiana e o ponto V=[1, 1] é dado por: {}'.format(H_mat_round))\n",
    "\n",
    "\n"
   ]
  },
  {
   "cell_type": "code",
   "execution_count": null,
   "metadata": {},
   "outputs": [],
   "source": []
  }
 ],
 "metadata": {
  "kernelspec": {
   "display_name": "Python 3",
   "language": "python",
   "name": "python3"
  },
  "language_info": {
   "codemirror_mode": {
    "name": "ipython",
    "version": 3
   },
   "file_extension": ".py",
   "mimetype": "text/x-python",
   "name": "python",
   "nbconvert_exporter": "python",
   "pygments_lexer": "ipython3",
   "version": "3.8.10"
  }
 },
 "nbformat": 4,
 "nbformat_minor": 4
}
